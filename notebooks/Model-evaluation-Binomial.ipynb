{
 "cells": [
  {
   "cell_type": "code",
   "execution_count": 1,
   "metadata": {},
   "outputs": [],
   "source": [
    "import pickle\n",
    "import numpy as np\n",
    "from matplotlib import pyplot as plt\n",
    "from psis import psisloo\n",
    "from os import path as op"
   ]
  },
  {
   "cell_type": "code",
   "execution_count": 29,
   "metadata": {},
   "outputs": [],
   "source": [
    "with open(op.join(\"..\", \"wellbeing_hierarchical_binomial.pkl\"), \"rb\") as f:\n",
    "    posterior_samples = pickle.load(f)\n",
    "\n",
    "    \n",
    "# Shape n-samples x m-parameters\n",
    "p_regional = np.array(posterior_samples[0])\n",
    "log_lik = np.array(posterior_samples[1])\n",
    "national_sigma = np.array(posterior_samples[2])\n",
    "national_mu = np.array(posterior_samples[3])"
   ]
  },
  {
   "cell_type": "code",
   "execution_count": 30,
   "metadata": {},
   "outputs": [
    {
     "name": "stdout",
     "output_type": "stream",
     "text": [
      "(1000, 100)\n",
      "(1000, 2841)\n",
      "(1000,)\n",
      "(1000,)\n"
     ]
    }
   ],
   "source": [
    "print(p_regional.shape)\n",
    "print(log_lik.shape)\n",
    "print(national_sigma.shape)\n",
    "print(national_mu.shape)"
   ]
  },
  {
   "cell_type": "code",
   "execution_count": 31,
   "metadata": {},
   "outputs": [],
   "source": [
    "# Verify the data probabilities are <= 1.\n",
    "\n",
    "assert np.sum(log_lik > 0.) == 0, \"data-probabilities higher than 1.0\"\n",
    "assert np.sum(np.isnan(log_lik)) == 0, \"data-probabilities contain nans\""
   ]
  },
  {
   "cell_type": "code",
   "execution_count": 82,
   "metadata": {},
   "outputs": [
    {
     "name": "stdout",
     "output_type": "stream",
     "text": [
      "                                 Postal code area  ix\n",
      "postal_code                                          \n",
      "00940        00940 Kontula - Vesala   (Helsinki )  77\n"
     ]
    }
   ],
   "source": [
    "with open(op.join(\"..\", 'paavodata_cleaned_df.pkl'), 'rb') as f:\n",
    "    paavo_df = pickle.load(f)\n",
    "\n",
    "not_isnan_ix = np.logical_not(np.logical_or(np.isnan(paavo_df[\"n_households_2015\"]), np.isnan(paavo_df[\"n_households_highest_income_2015\"])))\n",
    "df = paavo_df[not_isnan_ix]\n",
    "area_to_ix = df[\"Postal code area\"]\n",
    "area_to_ix = area_to_ix.to_frame()\n",
    "area_to_ix[\"ix\"] = list(range(1, len(df[\"Postal code area\"])+1))\n",
    "print(area_to_ix[area_to_ix[\"ix\"] == 77])"
   ]
  },
  {
   "cell_type": "code",
   "execution_count": 81,
   "metadata": {},
   "outputs": [
    {
     "name": "stdout",
     "output_type": "stream",
     "text": [
      "0.10762366938008766\n"
     ]
    }
   ],
   "source": [
    "affluent = paavo_df.loc[\"00940\", \"n_households_highest_income_2015\"]\n",
    "households = paavo_df.loc[\"00940\", \"n_households_2015\"]\n",
    "print(affluent/households)"
   ]
  },
  {
   "cell_type": "code",
   "execution_count": 98,
   "metadata": {},
   "outputs": [
    {
     "name": "stdout",
     "output_type": "stream",
     "text": [
      "PSIS-LOO: -39798.04720064491\n",
      "n_eff: 2059.153619775665\n"
     ]
    }
   ],
   "source": [
    "# PSISLOO\n",
    "# Kontula (index, 76) has likelihood of 0.0\n",
    "modified_log_lik = log_lik.copy()\n",
    "modified_log_lik[:, 76] = modified_log_lik[:, 76] + 150\n",
    "\n",
    "loo, loos, khat = psisloo(modified_log_lik)\n",
    "\n",
    "log_pred_dens = np.log(np.exp(modified_log_lik).mean(axis=0)).sum()\n",
    "\n",
    "print(f\"PSIS-LOO: {loo}\")\n",
    "print(f\"n_eff: {log_pred_dens - loo}\")"
   ]
  },
  {
   "cell_type": "code",
   "execution_count": 99,
   "metadata": {},
   "outputs": [
    {
     "data": {
      "text/plain": [
       "Text(0.5, 1.0, 'Khat values of the Gaussian model')"
      ]
     },
     "execution_count": 99,
     "metadata": {},
     "output_type": "execute_result"
    },
    {
     "data": {
      "image/png": "[encoded data removed]",
      "text/plain": [
       "<Figure size 432x288 with 1 Axes>"
      ]
     },
     "metadata": {
      "needs_background": "light"
     },
     "output_type": "display_data"
    }
   ],
   "source": [
    "fig, ax = plt.subplots(1,1)\n",
    "ax.scatter(range(0,len(khat)), khat, color=\"Orange\", s=4)\n",
    "ax.set_title(\"Khat values of the Gaussian model\")"
   ]
  },
  {
   "cell_type": "code",
   "execution_count": 100,
   "metadata": {},
   "outputs": [
    {
     "name": "stdout",
     "output_type": "stream",
     "text": [
      "2668\n",
      "173\n"
     ]
    }
   ],
   "source": [
    "print(np.sum(khat <= 0.7))\n",
    "print(np.sum(khat > 0.7))"
   ]
  },
  {
   "cell_type": "code",
   "execution_count": null,
   "metadata": {},
   "outputs": [],
   "source": []
  }
 ],
 "metadata": {
  "kernelspec": {
   "display_name": "Python 3",
   "language": "python",
   "name": "python3"
  },
  "language_info": {
   "codemirror_mode": {
    "name": "ipython",
    "version": 3
   },
   "file_extension": ".py",
   "mimetype": "text/x-python",
   "name": "python",
   "nbconvert_exporter": "python",
   "pygments_lexer": "ipython3",
   "version": "3.7.0"
  }
 },
 "nbformat": 4,
 "nbformat_minor": 2
}
