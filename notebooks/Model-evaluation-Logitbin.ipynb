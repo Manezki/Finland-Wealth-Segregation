{
 "cells": [
  {
   "cell_type": "code",
   "execution_count": 11,
   "metadata": {},
   "outputs": [],
   "source": [
    "import pickle\n",
    "import numpy as np\n",
    "from matplotlib import pyplot as plt\n",
    "from psis import psisloo\n",
    "from os import path as op"
   ]
  },
  {
   "cell_type": "code",
   "execution_count": 23,
   "metadata": {},
   "outputs": [],
   "source": [
    "with open(op.join(\"..\", \"affluence_hierarchical_logit_bin.pkl\"), \"rb\") as f:\n",
    "    posterior_samples = pickle.load(f)\n",
    "\n",
    "    \n",
    "# Shape n-samples x m-parameters\n",
    "posterior_samples = posterior_samples[1]\n",
    "\n",
    "mu_national = np.array(posterior_samples[0])\n",
    "mu_regional = np.array(posterior_samples[1])\n",
    "sigma_national = np.array(posterior_samples[2])\n",
    "sigma_regional = np.array(posterior_samples[3])\n",
    "eta = np.array(posterior_samples[4])\n",
    "log_lik = np.array(posterior_samples[5])"
   ]
  },
  {
   "cell_type": "code",
   "execution_count": 24,
   "metadata": {},
   "outputs": [
    {
     "name": "stdout",
     "output_type": "stream",
     "text": [
      "(12000,)\n",
      "(12000, 100)\n",
      "(12000,)\n",
      "(12000, 100)\n",
      "(12000, 2841)\n",
      "(12000, 2841)\n"
     ]
    }
   ],
   "source": [
    "print(mu_national.shape)\n",
    "print(mu_regional.shape)\n",
    "print(sigma_national.shape)\n",
    "print(sigma_regional.shape)\n",
    "print(eta.shape)\n",
    "print(log_lik.shape)"
   ]
  },
  {
   "cell_type": "code",
   "execution_count": 30,
   "metadata": {},
   "outputs": [
    {
     "ename": "AssertionError",
     "evalue": "data-probabilities higher than 1.0",
     "output_type": "error",
     "traceback": [
      "\u001b[0;31m---------------------------------------------------------------------------\u001b[0m",
      "\u001b[0;31mAssertionError\u001b[0m                            Traceback (most recent call last)",
      "\u001b[0;32m<ipython-input-30-4fd6ccd34bb3>\u001b[0m in \u001b[0;36m<module>\u001b[0;34m\u001b[0m\n\u001b[1;32m      1\u001b[0m \u001b[0;31m# Verify the data probabilities are <= 1.\u001b[0m\u001b[0;34m\u001b[0m\u001b[0;34m\u001b[0m\u001b[0m\n\u001b[1;32m      2\u001b[0m \u001b[0;34m\u001b[0m\u001b[0m\n\u001b[0;32m----> 3\u001b[0;31m \u001b[0;32massert\u001b[0m \u001b[0mnp\u001b[0m\u001b[0;34m.\u001b[0m\u001b[0msum\u001b[0m\u001b[0;34m(\u001b[0m\u001b[0mlog_lik\u001b[0m \u001b[0;34m>\u001b[0m \u001b[0;36m0.\u001b[0m\u001b[0;34m)\u001b[0m \u001b[0;34m==\u001b[0m \u001b[0;36m0\u001b[0m\u001b[0;34m,\u001b[0m \u001b[0;34m\"data-probabilities higher than 1.0\"\u001b[0m\u001b[0;34m\u001b[0m\u001b[0m\n\u001b[0m\u001b[1;32m      4\u001b[0m \u001b[0;32massert\u001b[0m \u001b[0mnp\u001b[0m\u001b[0;34m.\u001b[0m\u001b[0msum\u001b[0m\u001b[0;34m(\u001b[0m\u001b[0mnp\u001b[0m\u001b[0;34m.\u001b[0m\u001b[0misnan\u001b[0m\u001b[0;34m(\u001b[0m\u001b[0mlog_lik\u001b[0m\u001b[0;34m)\u001b[0m\u001b[0;34m)\u001b[0m \u001b[0;34m==\u001b[0m \u001b[0;36m0\u001b[0m\u001b[0;34m,\u001b[0m \u001b[0;34m\"data-probabilities contain nans\"\u001b[0m\u001b[0;34m\u001b[0m\u001b[0m\n",
      "\u001b[0;31mAssertionError\u001b[0m: data-probabilities higher than 1.0"
     ]
    }
   ],
   "source": [
    "# Verify the data probabilities are <= 1.\n",
    "\n",
    "assert np.sum(log_lik > 0.) == 0, \"data-probabilities higher than 1.0\"\n",
    "assert np.sum(np.isnan(log_lik)) == 0, \"data-probabilities contain nans\""
   ]
  },
  {
   "cell_type": "code",
   "execution_count": null,
   "metadata": {},
   "outputs": [],
   "source": []
  }
 ],
 "metadata": {
  "kernelspec": {
   "display_name": "Python 3",
   "language": "python",
   "name": "python3"
  },
  "language_info": {
   "codemirror_mode": {
    "name": "ipython",
    "version": 3
   },
   "file_extension": ".py",
   "mimetype": "text/x-python",
   "name": "python",
   "nbconvert_exporter": "python",
   "pygments_lexer": "ipython3",
   "version": "3.7.0"
  }
 },
 "nbformat": 4,
 "nbformat_minor": 2
}
