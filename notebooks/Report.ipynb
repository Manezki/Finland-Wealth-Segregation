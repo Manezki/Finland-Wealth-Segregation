{
 "cells": [
  {
   "cell_type": "markdown",
   "metadata": {},
   "source": [
    "# BDA Project notebook"
   ]
  },
  {
   "cell_type": "markdown",
   "metadata": {},
   "source": [
    "## Introduction\n",
    "Statistics Finland publishes data about the statistics of different postal regions. Our project works aims to use this data, to compare different regions of Finland to each other.\n",
    "\n",
    "Postal service in Finland has a nation wide coverage and postal codes are being used to ease the distribution of mail. Small areas have been assigned their own postal code, and using this postal code, one is able to lookup the location of the corresponding region. One design in the assignment of the postal codes, is that areas that can be seen to belong to distinguishable region, have postal code starting with same combination of numbers (e.g. 00 start for Helsinki) - also if postal codes (number) are close to each others, then one can assume that also the physical areas are close to each others (land area). [Yle new's article about the postal codes (In finnish)](https://yle.fi/uutiset/3-8190273)"
   ]
  },
  {
   "cell_type": "markdown",
   "metadata": {},
   "source": [
    "## Data\n",
    "\n",
    "The data used for the project is Finnish postal area data, that is freely available in [Statistics Finland webpage](https://www.stat.fi/tup/paavo/index_en.html), and is sometimes referred to as 'Paavo dataset'.\n",
    "\n",
    "The dataset includes information about (for each area defined by postal code):\n",
    "* Population statistics\n",
    "* Education\n",
    "* Inhabitants monetary situation\n",
    "* Household type and size\n",
    "* Buildings & dwellings\n",
    "* Workplace structures\n",
    "* How many students/workers/retired people live on the region\n",
    "\n",
    "Our analysis concern the population & inhabitants monetary situation, as we are comparing the income distribution of different regions.\n"
   ]
  },
  {
   "cell_type": "markdown",
   "metadata": {},
   "source": [
    "## Model\n"
   ]
  }
 ],
 "metadata": {
  "kernelspec": {
   "display_name": "Python 3",
   "language": "python",
   "name": "python3"
  },
  "language_info": {
   "codemirror_mode": {
    "name": "ipython",
    "version": 3
   },
   "file_extension": ".py",
   "mimetype": "text/x-python",
   "name": "python",
   "nbconvert_exporter": "python",
   "pygments_lexer": "ipython3",
   "version": "3.7.0"
  }
 },
 "nbformat": 4,
 "nbformat_minor": 2
}
